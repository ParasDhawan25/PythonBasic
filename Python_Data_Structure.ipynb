{
 "cells": [
  {
   "cell_type": "markdown",
   "id": "fed0f9cb-5953-4f21-bc34-ff3e22eac5b6",
   "metadata": {},
   "source": [
    "# Python Data Structure\n"
   ]
  },
  {
   "cell_type": "raw",
   "id": "4576fd48-e8cc-43d6-9a0f-7a4206350da9",
   "metadata": {},
   "source": [
    "1. What is Python, and why is it popular?\n",
    "->  Python is a high-level, interpreted programming language known for its simplicity and readability.\n",
    "    It is widely used in web development, data science, automation, and artificial intelligence.\n",
    "    Python supports multiple programming paradigms like object-oriented and functional programming.\n",
    "    Its large library support and active community make it powerful and beginner-friendly.\n",
    "\n",
    "\n",
    "2. What is an interpreter in Python?\n",
    "->  An interpreter in Python is a program that executes your Python code line-by-line.\n",
    "\n",
    "\n",
    "3. What are pre-defined keywords in Python?\n",
    "->  Pre-defined keywords (also called reserved words) in Python are special words that have a fixed meaning and cannot be used as variable names, function names, or identifiers.Ex->if,else,print etc.\n",
    "\n",
    "\n",
    "4.Can keywords be used as variable names?\n",
    "->    No, keywords cannot be used as variable names in Python.Because keywords have special meanings in the language.Using them as variable names will        cause a syntax error.\n",
    "\n",
    "\n",
    "5.What is mutability in Python?\n",
    "->     Mutability in Python refers to whether an object’s value can be changed after it is created.\n",
    "\n",
    "\n",
    "6. Why are lists mutable, but tuples are immutable?\n",
    "->      Lists are Mutable beacause:\n",
    "        -Lists are meant to store dynamic data.\n",
    "        -You can add, remove, or change elements easily.\n",
    "        -Useful for tasks where data needs to be updated.\n",
    "\n",
    "        Tuples are Immutable\n",
    "        -Tuples are meant to be fixed and safe.\n",
    "        -Once created, you cannot change any of the elements.\n",
    "        -Useful for data integrity, like storing constants or dictionary keys.\n",
    "\n",
    "\n",
    "7.What is the difference between “==” and “is” operators in Python?\n",
    "->      == is used to compare values.\n",
    "        and 'is' is used to check if two variables point to the exact same object.\\\n",
    "\n",
    "\n",
    "8.What are logical operators in Python?\n",
    "->      Logical operators are used to combine or compare Boolean expressions (True/False).\n",
    "        There are 3 Logical Operators:\n",
    "        and\t->True if both are True.\n",
    "        or  ->True if any one is True.\n",
    "        not\t->Reverses the condition.\t\n",
    "\n",
    "\n",
    "9.What is type casting in Python?\n",
    "->     Type casting in Python means converting one data type into another.\n",
    "       Two Types:\n",
    "       Implicit Casting – Python automatically converts:\n",
    "       x = 10       # int\n",
    "       y = 2.5      # float\n",
    "       Explicit Casting – You manually convert types:\n",
    "       a = \"123\"\n",
    "       b = int(a)    # '123' → 123 (string to int)\n",
    "\n",
    "\n",
    "10.What is the difference between implicit and explicit type casting?\n",
    "->     Implicit Casting – Python automatically converts:\n",
    "       x = 10       # int\n",
    "       y = 2.5      # float\n",
    "       Explicit Casting – You manually convert types:\n",
    "       a = \"123\"\n",
    "       b = int(a)    # '123' → 123 (string to int)\n",
    "\n",
    "\n",
    "11.What is the purpose of conditional statements in Python?\n",
    "->     Conditional statements are used to make decisions in a program by executing different code blocks based on conditions.\n",
    "       Uses:\n",
    "            To control the flow of execution.\n",
    "            To perform different actions based on different inputs or situations.\n",
    "\n",
    "\n",
    "12.How does the elif statement work?\n",
    "->    The elif (short for else if) statement is used to check multiple conditions, one after another, after the initial if.\n",
    "      Syntax:\n",
    "      if condition1:\n",
    "      # Runs if condition1 is True\n",
    "      elif condition2:\n",
    "      # Runs if condition1 is False AND condition2 is True\n",
    "      elif condition3:\n",
    "      # Runs if all above are False and this is True\n",
    "      else:\n",
    "      # Runs if none of the above conditions are True\n",
    "\n",
    "\n",
    "13.What is the difference between for and while loops?\n",
    "->\t          for Loop\t                                                                         while Loop\n",
    "Use Case\t  Used when the number of iterations is known\t                                     Used when the condition controls the loop\n",
    "Syntax\t      Iterates over a sequence (like list, range)\t                                     Runs as long as a condition is True\n",
    "Common Use\t  Looping through lists, strings, range()\t                                         Looping until a condition changes\n",
    "Risk\t      Less chance of infinite loop\t                                                     Can cause infinite loop if not careful\n",
    "\n",
    "\n",
    "14.Describe a scenario where a while loop is more suitable than a for loop.\n",
    "->     Use Case: Asking a user to enter the correct password.\n",
    "       You don’t know how many times the user will try.\n",
    "       The loop should continue until the correct input is given.\n",
    "       This makes while ideal because it's based on a condition, not a fixed count.\n",
    "\n"
   ]
  },
  {
   "cell_type": "markdown",
   "id": "54df2d64-e8ef-4a08-a30e-704b6277def4",
   "metadata": {},
   "source": [
    "# Practical Questions"
   ]
  },
  {
   "cell_type": "code",
   "execution_count": 1,
   "id": "10018a67-de54-46eb-b327-1b9c6648692b",
   "metadata": {},
   "outputs": [
    {
     "name": "stdout",
     "output_type": "stream",
     "text": [
      "Hello, World!\n"
     ]
    }
   ],
   "source": [
    "#1.Write a Python program to print \"Hello, World!\"?\n",
    "print(\"Hello, World!\")\n"
   ]
  },
  {
   "cell_type": "code",
   "execution_count": 3,
   "id": "d0628610-cfe9-4e3d-bace-72a41caf7b90",
   "metadata": {},
   "outputs": [
    {
     "name": "stdin",
     "output_type": "stream",
     "text": [
      "Enter your name:  Paras\n",
      "Enter your age:  20\n"
     ]
    },
    {
     "name": "stdout",
     "output_type": "stream",
     "text": [
      "My name is Paras\n",
      "I am 20 years old\n"
     ]
    }
   ],
   "source": [
    "#2.Write a Python program that displays your name and age?\n",
    "name = input(\"Enter your name: \")\n",
    "age = input(\"Enter your age: \")\n",
    "\n",
    "print(f\"My name is {name}\")\n",
    "print(f\"I am {age} years old\")\n"
   ]
  },
  {
   "cell_type": "code",
   "execution_count": 4,
   "id": "1d63d1b9-fc64-424e-af92-91f072d9e524",
   "metadata": {},
   "outputs": [
    {
     "name": "stdout",
     "output_type": "stream",
     "text": [
      "['False', 'None', 'True', 'and', 'as', 'assert', 'async', 'await', 'break', 'class', 'continue', 'def', 'del', 'elif', 'else', 'except', 'finally', 'for', 'from', 'global', 'if', 'import', 'in', 'is', 'lambda', 'nonlocal', 'not', 'or', 'pass', 'raise', 'return', 'try', 'while', 'with', 'yield']\n"
     ]
    }
   ],
   "source": [
    "#3. Write code to print all the pre-defined keywords in Python using the keyword library?\n",
    "import keyword\n",
    "print(keyword.kwlist)\n"
   ]
  },
  {
   "cell_type": "code",
   "execution_count": 5,
   "id": "f5a9a2fd-cf65-4e15-a0c1-8b942d6ccedb",
   "metadata": {},
   "outputs": [
    {
     "name": "stdin",
     "output_type": "stream",
     "text": [
      "Enter a word:  lambda\n"
     ]
    },
    {
     "name": "stdout",
     "output_type": "stream",
     "text": [
      " lambda is a Python keyword.\n"
     ]
    }
   ],
   "source": [
    "#4. Write a program that checks if a given word is a Python keyword?\n",
    "import keyword\n",
    "\n",
    "word = input(\"Enter a word: \")\n",
    "\n",
    "if keyword.iskeyword(word):\n",
    "    print(f\" {word} is a Python keyword.\")\n",
    "else:\n",
    "    print(f\" {word}  is NOT a Python keyword.\")\n"
   ]
  },
  {
   "cell_type": "code",
   "execution_count": 21,
   "id": "d545eb36-f381-4d27-8c6c-e3e16e0767c8",
   "metadata": {},
   "outputs": [
    {
     "name": "stdout",
     "output_type": "stream",
     "text": [
      "['paras', 2, True, 'train']\n",
      "['paras', 'PARAS', True, 'train']\n"
     ]
    }
   ],
   "source": [
    "#5. Create a list and tuple in Python, and demonstrate how attempting to change an element works differently for each.\n",
    "\n",
    "#list\n",
    "lis=[\"paras\",2,True,\"train\"]\n",
    "print(lis)\n",
    "lis[1]=\"PARAS\"\n",
    "print(lis)\n",
    "\n"
   ]
  },
  {
   "cell_type": "code",
   "execution_count": 12,
   "id": "40f83617-66ad-401c-8d73-ebe9c740eeeb",
   "metadata": {},
   "outputs": [
    {
     "ename": "TypeError",
     "evalue": "'tuple' object does not support item assignment",
     "output_type": "error",
     "traceback": [
      "\u001b[1;31m---------------------------------------------------------------------------\u001b[0m",
      "\u001b[1;31mTypeError\u001b[0m                                 Traceback (most recent call last)",
      "Cell \u001b[1;32mIn[12], line 3\u001b[0m\n\u001b[0;32m      1\u001b[0m \u001b[38;5;66;03m#tupple\u001b[39;00m\n\u001b[0;32m      2\u001b[0m tupp\u001b[38;5;241m=\u001b[39m(\u001b[38;5;241m2\u001b[39m,\u001b[38;5;124m\"\u001b[39m\u001b[38;5;124mParas\u001b[39m\u001b[38;5;124m\"\u001b[39m,\u001b[38;5;28;01mTrue\u001b[39;00m,\u001b[38;5;124m\"\u001b[39m\u001b[38;5;124mTrain\u001b[39m\u001b[38;5;124m\"\u001b[39m)\n\u001b[1;32m----> 3\u001b[0m tupp[\u001b[38;5;241m0\u001b[39m]\u001b[38;5;241m=\u001b[39m\u001b[38;5;241m4\u001b[39m\n",
      "\u001b[1;31mTypeError\u001b[0m: 'tuple' object does not support item assignment"
     ]
    }
   ],
   "source": [
    "#tupple\n",
    "tupp=(2,\"Paras\",True,\"Train\")\n",
    "tupp[0]=4"
   ]
  },
  {
   "cell_type": "code",
   "execution_count": 18,
   "id": "81da3668-c810-4556-9035-d615e87d6275",
   "metadata": {},
   "outputs": [
    {
     "name": "stdout",
     "output_type": "stream",
     "text": [
      "Original string: Hello\n",
      "Before change inside function: Hello\n",
      "Error: 'str' object does not support item assignment\n",
      "After attempt inside function: Hello\n",
      "String after function call: Hello\n",
      "\n",
      "Original list: ['H', 'e', 'l', 'l', 'o']\n",
      "Before change inside function: ['H', 'e', 'l', 'l', 'o']\n",
      "After change inside function: ['X', 'e', 'l', 'l', 'o']\n",
      "List after function call: ['X', 'e', 'l', 'l', 'o']\n"
     ]
    }
   ],
   "source": [
    "#6.  Write a function to demonstrate the behavior of mutable and immutable arguments\n",
    "def change_string_char(s):\n",
    "    print(\"Before change inside function:\", s)\n",
    "    try:\n",
    "        s[0] = 'X'   # Trying to change first character (will cause error)\n",
    "    except TypeError as e:\n",
    "        print(\"Error:\", e)\n",
    "    print(\"After attempt inside function:\", s)\n",
    "\n",
    "def change_list_element(lst):\n",
    "    print(\"Before change inside function:\", lst)\n",
    "    lst[0] = 'X'    # Successfully changes first element\n",
    "    print(\"After change inside function:\", lst)\n",
    "\n",
    "# String example\n",
    "my_str = \"Hello\"\n",
    "print(\"Original string:\", my_str)\n",
    "change_string_char(my_str)\n",
    "print(\"String after function call:\", my_str)\n",
    "print()\n",
    "\n",
    "# List example\n",
    "my_list = ['H', 'e', 'l', 'l', 'o']\n",
    "print(\"Original list:\", my_list)\n",
    "change_list_element(my_list)\n",
    "print(\"List after function call:\", my_list)\n"
   ]
  },
  {
   "cell_type": "code",
   "execution_count": 20,
   "id": "9768300a-781e-4e2d-9e2f-e816c61b0a45",
   "metadata": {},
   "outputs": [
    {
     "name": "stdin",
     "output_type": "stream",
     "text": [
      "Enter first number:  2\n",
      "Enter second number:  3\n"
     ]
    },
    {
     "name": "stdout",
     "output_type": "stream",
     "text": [
      "2.0 + 3.0 = 5.0\n",
      "2.0 - 3.0 = -1.0\n",
      "2.0 * 3.0 = 6.0\n",
      "2.0 / 3.0 = 0.6666666666666666\n"
     ]
    }
   ],
   "source": [
    "#7.  Write a program that performs basic arithmetic operations on two user-input numbers.\n",
    "num1 = float(input(\"Enter first number: \"))\n",
    "num2 = float(input(\"Enter second number: \"))\n",
    "\n",
    "add = num1 + num2\n",
    "sub = num1 - num2\n",
    "mul = num1 * num2\n",
    "\n",
    "if num2 != 0:\n",
    "    div = num1 / num2\n",
    "else:\n",
    "    div = \"Undefined (cannot divide by zero)\"\n",
    "\n",
    "print(f\"{num1} + {num2} = {add}\")\n",
    "print(f\"{num1} - {num2} = {sub}\")\n",
    "print(f\"{num1} * {num2} = {mul}\")\n",
    "print(f\"{num1} / {num2} = {div}\")\n"
   ]
  },
  {
   "cell_type": "code",
   "execution_count": 22,
   "id": "d646cef4-07a7-4e51-9527-46056a38f934",
   "metadata": {},
   "outputs": [
    {
     "name": "stdin",
     "output_type": "stream",
     "text": [
      "Enter first boolean value (True/False):  false\n",
      "Enter second boolean value (True/False):  true\n"
     ]
    },
    {
     "name": "stdout",
     "output_type": "stream",
     "text": [
      "False and True = False\n",
      "False or True = True\n",
      "not False = True\n",
      "not True = False\n"
     ]
    }
   ],
   "source": [
    "#8Write a program to demonstrate the use of logical operators\n",
    "a = input(\"Enter first boolean value (True/False): \")\n",
    "b = input(\"Enter second boolean value (True/False): \")\n",
    "\n",
    "if a.lower() == \"true\":\n",
    "    a=True\n",
    "else:\n",
    "    a=False\n",
    "    \n",
    "if b.lower() == \"true\":\n",
    "    b=True\n",
    "else:\n",
    "    b=False\n",
    "\n",
    "# Logical operations\n",
    "print(f\"{a} and {b} = {a and b}\")\n",
    "print(f\"{a} or {b} = {a or b}\")\n",
    "print(f\"not {a} = {not a}\")\n",
    "print(f\"not {b} = {not b}\")\n"
   ]
  },
  {
   "cell_type": "code",
   "execution_count": 23,
   "id": "fc4695d0-7c48-45b0-ae2b-9cea2bbeb3b5",
   "metadata": {},
   "outputs": [
    {
     "name": "stdin",
     "output_type": "stream",
     "text": [
      "Enter something:  9\n"
     ]
    },
    {
     "name": "stdout",
     "output_type": "stream",
     "text": [
      "String input: 9\n",
      "Integer conversion: 9\n",
      "Float conversion: 9.0\n",
      "Boolean conversion: True\n"
     ]
    }
   ],
   "source": [
    "#9. Write a Python program to convert user input from string to integer, float, and boolean types\n",
    "user_input = input(\"Enter something: \")\n",
    "\n",
    "try:\n",
    "    int_value = int(user_input)\n",
    "except ValueError:\n",
    "    int_value = \"Invalid integer\"\n",
    "\n",
    "try:\n",
    "    float_value = float(user_input)\n",
    "except ValueError:\n",
    "    float_value = \"Invalid float\"\n",
    "\n",
    "# Convert to boolean\n",
    "# Common approach: treat non-empty strings as True, empty as False\n",
    "bool_value = bool(user_input.strip())\n",
    "\n",
    "# Display the results\n",
    "print(f\"String input: {user_input}\")\n",
    "print(f\"Integer conversion: {int_value}\")\n",
    "print(f\"Float conversion: {float_value}\")\n",
    "print(f\"Boolean conversion: {bool_value}\")\n"
   ]
  },
  {
   "cell_type": "code",
   "execution_count": 24,
   "id": "ac4e94df-5d7c-461b-9992-1bd7a7ac2c89",
   "metadata": {},
   "outputs": [
    {
     "name": "stdout",
     "output_type": "stream",
     "text": [
      "Error converting to int: invalid literal for int() with base 10: '4.5'\n",
      "Original list of strings: ['1', '2', '3', '4.5', '6.7']\n",
      "Converted to floats: [1.0, 2.0, 3.0, 4.5, 6.7]\n"
     ]
    }
   ],
   "source": [
    "#10. Write code to demonstrate type casting with list elements\n",
    "# List of strings representing numbers\n",
    "str_list = [\"1\", \"2\", \"3\", \"4.5\", \"6.7\"]\n",
    "\n",
    "# Convert all elements to integers (will cause error for floats)\n",
    "try:\n",
    "    int_list = [int(x) for x in str_list]\n",
    "except ValueError as e:\n",
    "    print(\"Error converting to int:\", e)\n",
    "\n",
    "# Convert all elements to floats (safe for integer and float strings)\n",
    "float_list = [float(x) for x in str_list]\n",
    "\n",
    "print(\"Original list of strings:\", str_list)\n",
    "print(\"Converted to floats:\", float_list)\n"
   ]
  },
  {
   "cell_type": "code",
   "execution_count": 25,
   "id": "a58d3ab8-fdad-4b0d-a2b3-ede71182cd04",
   "metadata": {},
   "outputs": [
    {
     "name": "stdin",
     "output_type": "stream",
     "text": [
      "Enter a number:  80\n"
     ]
    },
    {
     "name": "stdout",
     "output_type": "stream",
     "text": [
      "The number is positive.\n"
     ]
    }
   ],
   "source": [
    "#11. Write a program that checks if a number is positive, negative, or zero.\n",
    "num = float(input(\"Enter a number: \"))\n",
    "\n",
    "if num > 0:\n",
    "    print(\"The number is positive.\")\n",
    "elif num < 0:\n",
    "    print(\"The number is negative.\")\n",
    "else:\n",
    "    print(\"The number is zero.\")\n"
   ]
  },
  {
   "cell_type": "code",
   "execution_count": 27,
   "id": "2b33f061-9297-4e26-8187-9690d43dc2ef",
   "metadata": {},
   "outputs": [
    {
     "name": "stdout",
     "output_type": "stream",
     "text": [
      "1 2 3 4 5 6 7 8 9 10 "
     ]
    }
   ],
   "source": [
    "#12. Write a for loop to print numbers from 1 to 10\n",
    "for i in range(1, 11):\n",
    "    print(i,end=\" \")"
   ]
  },
  {
   "cell_type": "code",
   "execution_count": 28,
   "id": "844544ab-8fd7-4886-815c-a715ffe16f48",
   "metadata": {},
   "outputs": [
    {
     "name": "stdout",
     "output_type": "stream",
     "text": [
      "Sum of even numbers between 1 and 50 is: 650\n"
     ]
    }
   ],
   "source": [
    "#13.  Write a Python program to find the sum of all even numbers between 1 and 50.\n",
    "total = 0\n",
    "for num in range(2, 51, 2):  # start at 2, go up to 50, step by 2 (even numbers)\n",
    "    total += num\n",
    "\n",
    "print(\"Sum of even numbers between 1 and 50 is:\", total)\n"
   ]
  },
  {
   "cell_type": "code",
   "execution_count": 29,
   "id": "d1754ff9-d2ac-48b7-8cb8-710890f94ef7",
   "metadata": {},
   "outputs": [
    {
     "name": "stdin",
     "output_type": "stream",
     "text": [
      "Enter a string:  paras\n"
     ]
    },
    {
     "name": "stdout",
     "output_type": "stream",
     "text": [
      "Reversed string: sarap\n"
     ]
    }
   ],
   "source": [
    "#14 Write a program to reverse a string using a while loop.\n",
    "original_str = input(\"Enter a string: \")\n",
    "\n",
    "reversed_str = \"\"\n",
    "index = len(original_str) - 1\n",
    "\n",
    "while index >= 0:\n",
    "    reversed_str += original_str[index]\n",
    "    index -= 1\n",
    "\n",
    "print(\"Reversed string:\", reversed_str)\n"
   ]
  },
  {
   "cell_type": "code",
   "execution_count": 30,
   "id": "e4b78349-904e-485f-b9b8-cc51a6d71401",
   "metadata": {},
   "outputs": [
    {
     "name": "stdin",
     "output_type": "stream",
     "text": [
      "Enter a non-negative integer:  5\n"
     ]
    },
    {
     "name": "stdout",
     "output_type": "stream",
     "text": [
      "Factorial of 5 is 120\n"
     ]
    }
   ],
   "source": [
    "#15 Write a Python program to calculate the factorial of a number provided by the user using a while loop.\n",
    "num = int(input(\"Enter a non-negative integer: \"))\n",
    "\n",
    "if num < 0:\n",
    "    print(\"Factorial is not defined for negative numbers.\")\n",
    "else:\n",
    "    factorial = 1\n",
    "    i = 1\n",
    "    while i <= num:\n",
    "        factorial *= i\n",
    "        i += 1\n",
    "    print(f\"Factorial of {num} is {factorial}\")\n"
   ]
  },
  {
   "cell_type": "code",
   "execution_count": null,
   "id": "046942f2-04a9-4cd1-beb1-5938d7903c1b",
   "metadata": {},
   "outputs": [],
   "source": []
  }
 ],
 "metadata": {
  "kernelspec": {
   "display_name": "Python 3 (ipykernel)",
   "language": "python",
   "name": "python3"
  },
  "language_info": {
   "codemirror_mode": {
    "name": "ipython",
    "version": 3
   },
   "file_extension": ".py",
   "mimetype": "text/x-python",
   "name": "python",
   "nbconvert_exporter": "python",
   "pygments_lexer": "ipython3",
   "version": "3.12.7"
  }
 },
 "nbformat": 4,
 "nbformat_minor": 5
}
